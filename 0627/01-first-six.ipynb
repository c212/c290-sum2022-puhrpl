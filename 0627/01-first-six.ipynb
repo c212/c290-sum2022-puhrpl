{
  "nbformat": 4,
  "nbformat_minor": 0,
  "metadata": {
    "colab": {
      "name": "0627.ipynb",
      "provenance": []
    },
    "kernelspec": {
      "name": "python3",
      "display_name": "Python 3"
    },
    "language_info": {
      "name": "python"
    }
  },
  "cells": [
    {
      "cell_type": "markdown",
      "source": [
        "This is my Assignment 1 Notebook. Enjoy.\n",
        "\n",
        "**Warmup 0.1** Consider the quadratic equation $ax^2+bx+c = 0$. \n",
        "\n",
        "Please provide a root to this equation. \n",
        "\n",
        "If there is more than one root please provide any one of them. \n",
        "\n",
        "Answer: $x_{1,2} = \\frac{-b \\pm \\sqrt{b^2-4ac}}{2a}$ \n",
        "\n",
        "See Example 1.1 in Martin LaForest (another one of our references for today and always). "
      ],
      "metadata": {
        "id": "pqhBySvUP8X8"
      }
    },
    {
      "cell_type": "markdown",
      "source": [
        "**Warmup 0.2** What is the value of $h$, in terms of $x$?\n",
        "\n",
        "![image.png](data:image/png;base64,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)\n",
        "\n",
        "Answer: $\\frac{h}{x} = \\tan{60^\\circ}=\\sqrt{3}$ so we have $h = x\\sqrt{3}$"
      ],
      "metadata": {
        "id": "rf3BukJoQOC_"
      }
    },
    {
      "cell_type": "markdown",
      "source": [
        "**Warmup 0.3** Rewrite $1+i$ in the form $re^{i\\phi}$. \n",
        "\n",
        "Please make sure that your $r$ is positive and that your $\\phi$ is in the range $[0, 2\\pi)$.\n",
        "\n",
        "Answer: $r e^{i\\phi} = r(\\cos{\\phi}+i\\sin{\\phi}) = 1 + i = \\sqrt{2}\\Big(\\frac{1}{\\sqrt{2}}+i\\frac{1}{\\sqrt{2}}\\Big) = \\sqrt{2}e^{i\\frac{\\pi}{4}}$\n",
        "\n",
        "So the purpose thus far was just to keep practicing writing (and doing) math. \n"
      ],
      "metadata": {
        "id": "3q4bU_JdXcVg"
      }
    },
    {
      "cell_type": "markdown",
      "source": [
        "Answer true or false to the following statements:\n",
        "\n",
        "**Problem 1** $|0\\rangle = \\begin{pmatrix} 0 \\\\ 0 \\end{pmatrix}$\n",
        "\n",
        "**Problem 2** $|1\\rangle = \\begin{pmatrix} 1 \\\\ 1 \\end{pmatrix}$\n",
        "\n",
        "Answer: both statements are false because in fact $|0\\rangle = \\begin{pmatrix} 1 \\\\ 0 \\end{pmatrix}$ and $|1\\rangle = \\begin{pmatrix} 0 \\\\ 1 \\end{pmatrix}$\n",
        "\n",
        "**Problem 3** A quantum state is a unit vector in a complex vector space. \n",
        "\n",
        "Answer: true, everybody knows that. "
      ],
      "metadata": {
        "id": "Tm3qG_I6YrqD"
      }
    },
    {
      "cell_type": "markdown",
      "source": [
        "**Problem 4.** Measurements can only be performed in the computational (standard) basis.\n",
        "\n",
        "Answer: clearly, false (see slide in Mon 6/27 notes). We can measure in any basis {$|u\\rangle$, $|u^\\perp\\rangle$}. \n",
        "\n",
        "**Problem 5.** The probability amplitude of $|x\\rangle$ is equal to the probability that the outcome of a measurement is $x$. (Just to be clear, here $x$ is $0$, or $1$, or $+$, or $-$ or some $u$ in a basis $\\{ |u\\rangle, |u^\\perp\\rangle\\}$).\n",
        "\n",
        "Answer: the probability is the amplitude *squared*. So, false."
      ],
      "metadata": {
        "id": "EwcYegTIaQTp"
      }
    },
    {
      "cell_type": "markdown",
      "source": [
        "**Problem 6.** The inner product of $|+\\rangle$ and $|-\\rangle$ is $1$.\n",
        "\n",
        "Answer: totally false; these vectors are orthogonal, so the product is $0$. \n",
        "\n",
        "We can also calculate, but we need to choose a basis. \n",
        "\n",
        "In the computational basis they are $\\begin{pmatrix} \\frac{1}{\\sqrt{2}} \\\\ \\frac{1}{\\sqrt{2}}\\end{pmatrix}$ \n",
        "and $\\begin{pmatrix} \\frac{1}{\\sqrt{2}} \\\\ -\\frac{1}{\\sqrt{2}}\\end{pmatrix}$ and $\\langle + | - \\rangle = \\begin{pmatrix} \\frac{1}{\\sqrt{2}} & \\frac{1}{\\sqrt{2}}\\end{pmatrix} \\cdot  \\begin{pmatrix} \\frac{1}{\\sqrt{2}} \\\\ -\\frac{1}{\\sqrt{2}}\\end{pmatrix} = \\frac{1}{2} - \\frac{1}{2} = 0$. \n",
        "\n",
        "In their own basis they're $\\begin{pmatrix} 1 \\\\ 0\\end{pmatrix}$ and $\\begin{pmatrix} 0 \\\\ 1\\end{pmatrix}$ and \n",
        "their inner product is still $0$. "
      ],
      "metadata": {
        "id": "hI1RxKJQb3R2"
      }
    },
    {
      "cell_type": "markdown",
      "source": [
        "##Example\n",
        "\n",
        "What is the probability that the qubit $|\\psi\\rangle = \\begin{pmatrix} \\frac{3}{5} \\\\ -\\frac{4}{5} \n",
        "\\end{pmatrix}$ (written with respect to the standard basis) will be measured as $|+\\rangle$ when we \n",
        "measure in the sign basis? $|-\\rangle$?\n",
        "\n",
        "To solve this, we find the magnitude of $|\\psi\\rangle$ in the direction of $|+\\rangle$ by taking the \n",
        "dot product of the two vectors: $$\\langle + | \\psi \\rangle = \\begin{pmatrix} \\frac{1}{\\sqrt{2}} & \n",
        "\\frac{1}{\\sqrt{2}} \\end{pmatrix}\\begin{pmatrix} \\frac{3}{5} \\\\ -\\frac{4}{5} \\end{pmatrix} = \\frac{-1}{5\\sqrt{2}}$$\n",
        "\n",
        "Thus, the probability we measure the $|\\psi\\rangle$ to be in the $|+\\rangle$ state is the magnitude \n",
        "squared of the projection: $P(+) = \\Big(\\frac{-1}{5\\sqrt{2}}\\Big)^2 = \\frac{1}{50}$\n",
        "\n",
        "What about $|-\\rangle$? We follow the same procedure:\n",
        "\n",
        "$$\\langle - | \\psi \\rangle = \\begin{pmatrix} \\frac{1}{\\sqrt{2}} & -\\frac{1}{\\sqrt{2}} \\end{pmatrix} \n",
        "\\begin{pmatrix} \\frac{3}{5} \\\\ -\\frac{4}{5} \\end{pmatrix} = \\frac{7}{5\\sqrt{2}}$$\n",
        "\n",
        "Now we compute the probability of measuring $|-\\rangle$ : $P(-) = \\frac{49}{50}$.\n",
        "\n",
        "Finally, note that $P(+)+P(-) = 1$ , as we should expect.\n"
      ],
      "metadata": {
        "id": "6tzoaEJpc_Yh"
      }
    },
    {
      "cell_type": "markdown",
      "source": [
        "Here I demonstrate how to write a formula:\n",
        "\n",
        "$|u^\\perp\\rangle = \\frac{-1}{2}|0\\rangle + \\frac{\\sqrt{3}}{2}|1\\rangle$ "
      ],
      "metadata": {
        "id": "LMlrCpDR43xj"
      }
    }
  ]
}
