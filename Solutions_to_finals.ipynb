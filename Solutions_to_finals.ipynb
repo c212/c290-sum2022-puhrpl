{
  "nbformat": 4,
  "nbformat_minor": 0,
  "metadata": {
    "colab": {
      "name": "Solutions_to_finals.ipynb",
      "provenance": [],
      "collapsed_sections": [],
      "include_colab_link": true
    },
    "kernelspec": {
      "name": "python3",
      "display_name": "Python 3"
    },
    "language_info": {
      "name": "python"
    }
  },
  "cells": [
    {
      "cell_type": "markdown",
      "metadata": {
        "id": "view-in-github",
        "colab_type": "text"
      },
      "source": [
        "<a href=\"https://colab.research.google.com/github/c212/c290-sum2022-puhrpl/blob/main/Solutions_to_finals.ipynb\" target=\"_parent\"><img src=\"https://colab.research.google.com/assets/colab-badge.svg\" alt=\"Open In Colab\"/></a>"
      ]
    },
    {
      "cell_type": "code",
      "source": [
        "!pip install qiskit pylatexenc"
      ],
      "metadata": {
        "id": "reUhnffF5tRX"
      },
      "execution_count": null,
      "outputs": []
    },
    {
      "cell_type": "markdown",
      "source": [
        "### 8 What is entangelement? \n",
        "Ans: Entanglement is the state of a system of atleast 2 qubits wherein they cannot be factorised into two or more individual qubit units."
      ],
      "metadata": {
        "id": "pCNDCMSI4ifB"
      }
    },
    {
      "cell_type": "markdown",
      "source": [
        "### 9 What is the GHZ circuit? What does it do? \n",
        "Ans: GHZ Gate creates an entanglement of 3 qubits. It is the circuit below."
      ],
      "metadata": {
        "id": "tY_DH4kN4rcp"
      }
    },
    {
      "cell_type": "code",
      "source": [
        "# GHZ\n",
        "from qiskit import *\n",
        "% matplotlib inline\n",
        "c = QuantumCircuit(3,3)\n",
        "c.h(0)\n",
        "c.cx(0,1)\n",
        "c.cx(1,2)\n",
        "c.draw(output='mpl')"
      ],
      "metadata": {
        "colab": {
          "base_uri": "https://localhost:8080/",
          "height": 231
        },
        "id": "AC0eTr6I40IJ",
        "outputId": "a1908204-3a81-4d2a-d973-551dbb384782"
      },
      "execution_count": null,
      "outputs": [
        {
          "output_type": "execute_result",
          "data": {
            "text/plain": [
              "<Figure size 267.197x264.88 with 1 Axes>"
            ],
            "image/png": "[encoded data removed]"
          },
          "metadata": {},
          "execution_count": 2
        }
      ]
    },
    {
      "cell_type": "markdown",
      "source": [
        "### 10 What is a matrix? \n",
        "Ans: Matrix is a notation/formulation of a set of linear equations."
      ],
      "metadata": {
        "id": "YoeUJbQ252kj"
      }
    },
    {
      "cell_type": "markdown",
      "source": [
        "### 11 What is a tensor product? \n",
        "Ans: In mathematics, a tensor is an algebraic object that describes a multilinear relationship between sets of algebraic objects related to a vector space. "
      ],
      "metadata": {
        "id": "oUoNvAsC6YEg"
      }
    },
    {
      "cell_type": "markdown",
      "source": [
        "### 12 What is a complex conjugate? \n",
        "Ans : $\\begin{pmatrix} a & b \\\\ c& d\\end{pmatrix}^* =  \n",
        "\\begin{pmatrix} a^* & b^* \\\\ c^*& d^*\\end{pmatrix}$ or, \\\\\n",
        "$(a + ib)^* = a - ib $  "
      ],
      "metadata": {
        "id": "qil6iywW619f"
      }
    },
    {
      "cell_type": "markdown",
      "source": [
        "### 14 What are the three axioms of quantum mechanics? \n",
        "Ans: There are 3 axioms, they are : Superposition, Entanglement and "
      ],
      "metadata": {
        "id": "864k-Z_M9NQJ"
      }
    },
    {
      "cell_type": "markdown",
      "source": [
        "### 16 What is quantum computation? \n",
        "Ans: Computation involving principles of quantum mechanics is quantum computation. "
      ],
      "metadata": {
        "id": "DkZ5mX5z-iQJ"
      }
    },
    {
      "cell_type": "markdown",
      "source": [
        "### 17 What is (and does) the Hadamard gate? \n",
        "Hadamard gate creates an equal superposition of standard basis. It is, \\\\\n",
        "$ H = \\frac{1}{\\sqrt{2}}\\begin{pmatrix} 1 & 1 \\\\ 1& -1\\end{pmatrix}$ "
      ],
      "metadata": {
        "id": "EWpPfZ3M-tiq"
      }
    },
    {
      "cell_type": "markdown",
      "source": [
        "### 18 What is (and does) the X gate? \n",
        "Ans: X gate performs swapping operation in standard basis. \\\\\n",
        "$ X = \\begin{pmatrix} 0 & 1 \\\\ 1& 0 \\end{pmatrix}$  "
      ],
      "metadata": {
        "id": "RfoqQ8Ip_d-i"
      }
    },
    {
      "cell_type": "markdown",
      "source": [
        "### 19 What is the Z gate? \n",
        "Ans: $ Z = \\begin{pmatrix} 1 & 0 \\\\ 0 & -1 \\end{pmatrix}$  "
      ],
      "metadata": {
        "id": "xKJCKX09_1Z0"
      }
    },
    {
      "cell_type": "markdown",
      "source": [
        "### 22 What is Qiskit? \n",
        "Ans: Qiskit is a quantum computing emulator and coding platform on python. "
      ],
      "metadata": {
        "id": "O8HsWCSpAE8Q"
      }
    },
    {
      "cell_type": "markdown",
      "source": [
        "### 23 What Python libraries have we worked with? \n",
        "Ans: qiskit, pylatexenc, math, matplotlib"
      ],
      "metadata": {
        "id": "ujI3_4x8ATMB"
      }
    },
    {
      "cell_type": "markdown",
      "source": [
        "### 26 What is the sign basis for qubits? \n",
        "Ans: Sign bases are $|+⟩$ and $|-⟩$ $|+⟩ = \\frac{1}{\\sqrt{2}}(|0⟩ + |1⟩)$ and $|-⟩ = \\frac{1}{\\sqrt{2}}(|0⟩ - |1⟩) $"
      ],
      "metadata": {
        "id": "6SGWmX7QAjbb"
      }
    }
  ]
}